{
 "cells": [
  {
   "cell_type": "code",
   "execution_count": 1,
   "metadata": {
    "collapsed": true
   },
   "outputs": [],
   "source": [
    "import pandas as pd\n",
    "from sklearn.metrics import accuracy_score, precision_score, recall_score, f1_score, roc_auc_score\n",
    "\n",
    "def score_df(y_train, y_test, y_pred_train, y_pred_test, average='binary'):\n",
    "    if len(y_train) != len(y_pred_train): raise Exception('Lengths of true and predicted for train do not match.')\n",
    "    if len(y_pred_test) != len(y_pred_test): raise Exception('Lengths of true and predicted for test do not match.')\n",
    "    num_classes = pd.Series( y_train ).nunique()\n",
    "    score_2darray = [ \\\n",
    "                     [ \\\n",
    "                      len(y_),\n",
    "                      pd.Series( y_ ).nunique(),\n",
    "                      accuracy_score(y_, y_pred_), \n",
    "                      precision_score(y_, y_pred_, average=average), \n",
    "                      recall_score(y_, y_pred_, average=average), \n",
    "                      f1_score(y_, y_pred_, average=average) \\\n",
    "                     ] \\\n",
    "                     + ([roc_auc_score(y_, y_pred_)] if num_classes == 2 else []) \\\n",
    "                     for (y_, y_pred_) in [(y_train, y_pred_train), (y_test, y_pred_test)] \\\n",
    "                    ]\n",
    "    score_df = pd.DataFrame(score_2darray,\n",
    "                            index = ['train', 'test'], \n",
    "                            columns = ['# samples', '# classes', 'accuracy', 'precision', 'recall', 'f1'] \\\n",
    "                            + (['auc'] if num_classes == 2 else []))\n",
    "    return score_df"
   ]
  },
  {
   "cell_type": "code",
   "execution_count": 2,
   "metadata": {
    "collapsed": true
   },
   "outputs": [],
   "source": [
    "from sklearn.metrics import confusion_matrix\n",
    "\n",
    "def conf_mat_df(y_true, y_pred):\n",
    "    conf_mat = confusion_matrix(y_true, y_pred)\n",
    "    num_class = len(conf_mat)\n",
    "    true_labels = [f'True_{i}' for i in range(num_class)]\n",
    "    pred_labels = [f'Pred_{i}' for i in range(num_class)]\n",
    "    conf_mat_df = pd.DataFrame(conf_mat, index = true_labels, columns = pred_labels )\n",
    "    return conf_mat_df\n"
   ]
  },
  {
   "cell_type": "code",
   "execution_count": 3,
   "metadata": {},
   "outputs": [
    {
     "name": "stdout",
     "output_type": "stream",
     "text": [
      "Best parameter for logistic regression:\n",
      "{'C': 1}\n",
      "\n",
      "Score Table:\n"
     ]
    },
    {
     "data": {
      "text/html": [
       "<div>\n",
       "<style scoped>\n",
       "    .dataframe tbody tr th:only-of-type {\n",
       "        vertical-align: middle;\n",
       "    }\n",
       "\n",
       "    .dataframe tbody tr th {\n",
       "        vertical-align: top;\n",
       "    }\n",
       "\n",
       "    .dataframe thead th {\n",
       "        text-align: right;\n",
       "    }\n",
       "</style>\n",
       "<table border=\"1\" class=\"dataframe\">\n",
       "  <thead>\n",
       "    <tr style=\"text-align: right;\">\n",
       "      <th></th>\n",
       "      <th># samples</th>\n",
       "      <th># classes</th>\n",
       "      <th>accuracy</th>\n",
       "      <th>precision</th>\n",
       "      <th>recall</th>\n",
       "      <th>f1</th>\n",
       "      <th>auc</th>\n",
       "    </tr>\n",
       "  </thead>\n",
       "  <tbody>\n",
       "    <tr>\n",
       "      <th>train</th>\n",
       "      <td>50</td>\n",
       "      <td>2</td>\n",
       "      <td>0.74</td>\n",
       "      <td>0.727273</td>\n",
       "      <td>0.695652</td>\n",
       "      <td>0.711111</td>\n",
       "      <td>0.736715</td>\n",
       "    </tr>\n",
       "    <tr>\n",
       "      <th>test</th>\n",
       "      <td>50</td>\n",
       "      <td>2</td>\n",
       "      <td>0.62</td>\n",
       "      <td>0.681818</td>\n",
       "      <td>0.555556</td>\n",
       "      <td>0.612245</td>\n",
       "      <td>0.625604</td>\n",
       "    </tr>\n",
       "  </tbody>\n",
       "</table>\n",
       "</div>"
      ],
      "text/plain": [
       "       # samples  # classes  accuracy  precision    recall        f1       auc\n",
       "train         50          2      0.74   0.727273  0.695652  0.711111  0.736715\n",
       "test          50          2      0.62   0.681818  0.555556  0.612245  0.625604"
      ]
     },
     "metadata": {},
     "output_type": "display_data"
    },
    {
     "name": "stdout",
     "output_type": "stream",
     "text": [
      "\n",
      "Confusion Matrix for Train:\n"
     ]
    },
    {
     "data": {
      "text/html": [
       "<div>\n",
       "<style scoped>\n",
       "    .dataframe tbody tr th:only-of-type {\n",
       "        vertical-align: middle;\n",
       "    }\n",
       "\n",
       "    .dataframe tbody tr th {\n",
       "        vertical-align: top;\n",
       "    }\n",
       "\n",
       "    .dataframe thead th {\n",
       "        text-align: right;\n",
       "    }\n",
       "</style>\n",
       "<table border=\"1\" class=\"dataframe\">\n",
       "  <thead>\n",
       "    <tr style=\"text-align: right;\">\n",
       "      <th></th>\n",
       "      <th>Pred_0</th>\n",
       "      <th>Pred_1</th>\n",
       "    </tr>\n",
       "  </thead>\n",
       "  <tbody>\n",
       "    <tr>\n",
       "      <th>True_0</th>\n",
       "      <td>21</td>\n",
       "      <td>6</td>\n",
       "    </tr>\n",
       "    <tr>\n",
       "      <th>True_1</th>\n",
       "      <td>7</td>\n",
       "      <td>16</td>\n",
       "    </tr>\n",
       "  </tbody>\n",
       "</table>\n",
       "</div>"
      ],
      "text/plain": [
       "        Pred_0  Pred_1\n",
       "True_0      21       6\n",
       "True_1       7      16"
      ]
     },
     "metadata": {},
     "output_type": "display_data"
    },
    {
     "name": "stdout",
     "output_type": "stream",
     "text": [
      "\n",
      "Confusion Matrix for Test:\n"
     ]
    },
    {
     "data": {
      "text/html": [
       "<div>\n",
       "<style scoped>\n",
       "    .dataframe tbody tr th:only-of-type {\n",
       "        vertical-align: middle;\n",
       "    }\n",
       "\n",
       "    .dataframe tbody tr th {\n",
       "        vertical-align: top;\n",
       "    }\n",
       "\n",
       "    .dataframe thead th {\n",
       "        text-align: right;\n",
       "    }\n",
       "</style>\n",
       "<table border=\"1\" class=\"dataframe\">\n",
       "  <thead>\n",
       "    <tr style=\"text-align: right;\">\n",
       "      <th></th>\n",
       "      <th>Pred_0</th>\n",
       "      <th>Pred_1</th>\n",
       "    </tr>\n",
       "  </thead>\n",
       "  <tbody>\n",
       "    <tr>\n",
       "      <th>True_0</th>\n",
       "      <td>16</td>\n",
       "      <td>7</td>\n",
       "    </tr>\n",
       "    <tr>\n",
       "      <th>True_1</th>\n",
       "      <td>12</td>\n",
       "      <td>15</td>\n",
       "    </tr>\n",
       "  </tbody>\n",
       "</table>\n",
       "</div>"
      ],
      "text/plain": [
       "        Pred_0  Pred_1\n",
       "True_0      16       7\n",
       "True_1      12      15"
      ]
     },
     "metadata": {},
     "output_type": "display_data"
    }
   ],
   "source": [
    "multiclass = False # can be set to either True or False\n",
    "if __name__ == '__main__':\n",
    "    from sklearn.linear_model import LogisticRegression\n",
    "    from sklearn import datasets\n",
    "    from sklearn.model_selection import train_test_split, GridSearchCV\n",
    "    import pandas as pd\n",
    "    from IPython.display import display\n",
    "    \n",
    "    iris = datasets.load_iris()\n",
    "    X, y = iris.data[:, :2], iris.target\n",
    "    if not multiclass:\n",
    "        y = y - 1\n",
    "        y_filter = y >= 0 \n",
    "        X, y = X[y_filter], y[y_filter] # force to binary\n",
    "    \n",
    "    X_train, X_test, y_train, y_test = train_test_split(X, y, test_size = 0.5, random_state=33)\n",
    "    \n",
    "    ## Scale\n",
    "    from sklearn import datasets, preprocessing\n",
    "    scaler = preprocessing.StandardScaler().fit(X_train)\n",
    "    X_train = scaler.transform(X_train)\n",
    "    X_test = scaler.transform(X_test)\n",
    "    \n",
    "    ##\n",
    "    from sklearn.decomposition import PCA\n",
    "    pca = PCA(.95)\n",
    "    pca.fit(X_train)\n",
    "    X_train = pca.transform(X_train)\n",
    "    X_test = pca.transform(X_test)\n",
    "    \n",
    "    params = {'C': [0.1, 1, 10]}\n",
    "    model = GridSearchCV(LogisticRegression(), params, cv=2, return_train_score=False, n_jobs=-1)\n",
    "    model.fit(X_train, y_train)\n",
    "    print(f'Best parameter for logistic regression:\\n{model.best_params_}')\n",
    "    y_pred_train = model.predict(X_train)\n",
    "    y_pred_test = model.predict(X_test)\n",
    "    \n",
    "    print('\\nScore Table:')\n",
    "    if multiclass:\n",
    "        display(score_df(y_train, y_test, y_pred_train, y_pred_test, average='macro'))\n",
    "    else:\n",
    "        display(score_df(y_train, y_test, y_pred_train, y_pred_test, average='binary'))\n",
    "    print('\\nConfusion Matrix for Train:')\n",
    "    display(conf_mat_df(y_train, y_pred_train))\n",
    "    print('\\nConfusion Matrix for Test:')\n",
    "    display(conf_mat_df(y_test, y_pred_test))\n",
    "    "
   ]
  },
  {
   "cell_type": "code",
   "execution_count": null,
   "metadata": {
    "collapsed": true
   },
   "outputs": [],
   "source": []
  }
 ],
 "metadata": {
  "kernelspec": {
   "display_name": "Python 3",
   "language": "python",
   "name": "python3"
  },
  "language_info": {
   "codemirror_mode": {
    "name": "ipython",
    "version": 3
   },
   "file_extension": ".py",
   "mimetype": "text/x-python",
   "name": "python",
   "nbconvert_exporter": "python",
   "pygments_lexer": "ipython3",
   "version": "3.6.3"
  }
 },
 "nbformat": 4,
 "nbformat_minor": 2
}
